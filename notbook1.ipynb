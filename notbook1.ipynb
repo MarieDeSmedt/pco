{
 "cells": [],
 "metadata": {
  "interpreter": {
   "hash": "fd7570af2897f8e908499cfeabad0c70bf6fb7d952377840f9efded710866ce5"
  },
  "kernelspec": {
   "display_name": "Python 3.8.5 ('pco_env': venv)",
   "language": "python",
   "name": "python3"
  },
  "language_info": {
   "codemirror_mode": {
    "name": "ipython",
    "version": 3
   },
   "file_extension": ".py",
   "mimetype": "text/x-python",
   "name": "python",
   "nbconvert_exporter": "python",
   "pygments_lexer": "ipython3",
   "version": "3.8.5"
  },
  "orig_nbformat": 4
 },
 "nbformat": 4,
 "nbformat_minor": 2
}
